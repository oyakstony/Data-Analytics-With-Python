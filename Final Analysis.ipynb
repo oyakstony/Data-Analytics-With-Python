{
 "cells": [
  {
   "cell_type": "code",
   "execution_count": 2,
   "id": "5ba70009",
   "metadata": {},
   "outputs": [],
   "source": [
    "import pandas as pd\n",
    "import numpy as np\n",
    "import matplotlib.pyplot as plt\n",
    "import seaborn as sns"
   ]
  },
  {
   "cell_type": "code",
   "execution_count": 4,
   "id": "bfcdd5a0",
   "metadata": {},
   "outputs": [],
   "source": [
    "credit_data = pd.read_csv('CleanCreditScoring.csv')"
   ]
  },
  {
   "cell_type": "code",
   "execution_count": 6,
   "id": "b3dd0e71",
   "metadata": {},
   "outputs": [
    {
     "data": {
      "text/html": [
       "<div>\n",
       "<style scoped>\n",
       "    .dataframe tbody tr th:only-of-type {\n",
       "        vertical-align: middle;\n",
       "    }\n",
       "\n",
       "    .dataframe tbody tr th {\n",
       "        vertical-align: top;\n",
       "    }\n",
       "\n",
       "    .dataframe thead th {\n",
       "        text-align: right;\n",
       "    }\n",
       "</style>\n",
       "<table border=\"1\" class=\"dataframe\">\n",
       "  <thead>\n",
       "    <tr style=\"text-align: right;\">\n",
       "      <th></th>\n",
       "      <th>Status</th>\n",
       "      <th>Seniority</th>\n",
       "      <th>Home</th>\n",
       "      <th>Time</th>\n",
       "      <th>Age</th>\n",
       "      <th>Marital</th>\n",
       "      <th>Records</th>\n",
       "      <th>Job</th>\n",
       "      <th>Expenses</th>\n",
       "      <th>Income</th>\n",
       "      <th>...</th>\n",
       "      <th>timeR</th>\n",
       "      <th>ageR</th>\n",
       "      <th>expensesR</th>\n",
       "      <th>incomeR</th>\n",
       "      <th>assetsR</th>\n",
       "      <th>debtR</th>\n",
       "      <th>amountR</th>\n",
       "      <th>priceR</th>\n",
       "      <th>finratR</th>\n",
       "      <th>savingsR</th>\n",
       "    </tr>\n",
       "  </thead>\n",
       "  <tbody>\n",
       "    <tr>\n",
       "      <th>0</th>\n",
       "      <td>good</td>\n",
       "      <td>9</td>\n",
       "      <td>rent</td>\n",
       "      <td>60</td>\n",
       "      <td>30</td>\n",
       "      <td>married</td>\n",
       "      <td>no_rec</td>\n",
       "      <td>freelance</td>\n",
       "      <td>73</td>\n",
       "      <td>129</td>\n",
       "      <td>...</td>\n",
       "      <td>time (48,99]</td>\n",
       "      <td>age (25,30]</td>\n",
       "      <td>exp (60,80]</td>\n",
       "      <td>inc (110,140]</td>\n",
       "      <td>asset (-1,0]</td>\n",
       "      <td>debt (-1,0]</td>\n",
       "      <td>am (600,900]</td>\n",
       "      <td>priz (0,1e+03]</td>\n",
       "      <td>finr (90,100]</td>\n",
       "      <td>sav (4,6]</td>\n",
       "    </tr>\n",
       "    <tr>\n",
       "      <th>1</th>\n",
       "      <td>good</td>\n",
       "      <td>17</td>\n",
       "      <td>rent</td>\n",
       "      <td>60</td>\n",
       "      <td>58</td>\n",
       "      <td>widow</td>\n",
       "      <td>no_rec</td>\n",
       "      <td>fixed</td>\n",
       "      <td>48</td>\n",
       "      <td>131</td>\n",
       "      <td>...</td>\n",
       "      <td>time (48,99]</td>\n",
       "      <td>age (50,99]</td>\n",
       "      <td>exp (40,50]</td>\n",
       "      <td>inc (110,140]</td>\n",
       "      <td>asset (-1,0]</td>\n",
       "      <td>debt (-1,0]</td>\n",
       "      <td>am (900,1.1e+03]</td>\n",
       "      <td>priz (1.5e+03,1.8e+03]</td>\n",
       "      <td>finr (50,70]</td>\n",
       "      <td>sav (4,6]</td>\n",
       "    </tr>\n",
       "    <tr>\n",
       "      <th>2</th>\n",
       "      <td>bad</td>\n",
       "      <td>10</td>\n",
       "      <td>owner</td>\n",
       "      <td>36</td>\n",
       "      <td>46</td>\n",
       "      <td>married</td>\n",
       "      <td>yes_rec</td>\n",
       "      <td>freelance</td>\n",
       "      <td>90</td>\n",
       "      <td>200</td>\n",
       "      <td>...</td>\n",
       "      <td>time (24,36]</td>\n",
       "      <td>age (40,50]</td>\n",
       "      <td>exp (80,1e+04]</td>\n",
       "      <td>inc (190,1e+04]</td>\n",
       "      <td>asset (0,3e+03]</td>\n",
       "      <td>debt (-1,0]</td>\n",
       "      <td>am (1.4e+03,1e+05]</td>\n",
       "      <td>priz (1.8e+03,1e+05]</td>\n",
       "      <td>finr (50,70]</td>\n",
       "      <td>sav (0,2]</td>\n",
       "    </tr>\n",
       "    <tr>\n",
       "      <th>3</th>\n",
       "      <td>good</td>\n",
       "      <td>0</td>\n",
       "      <td>rent</td>\n",
       "      <td>60</td>\n",
       "      <td>24</td>\n",
       "      <td>single</td>\n",
       "      <td>no_rec</td>\n",
       "      <td>fixed</td>\n",
       "      <td>63</td>\n",
       "      <td>182</td>\n",
       "      <td>...</td>\n",
       "      <td>time (48,99]</td>\n",
       "      <td>age (0,25]</td>\n",
       "      <td>exp (60,80]</td>\n",
       "      <td>inc (140,190]</td>\n",
       "      <td>asset (0,3e+03]</td>\n",
       "      <td>debt (-1,0]</td>\n",
       "      <td>am (600,900]</td>\n",
       "      <td>priz (1.3e+03,1.5e+03]</td>\n",
       "      <td>finr (50,70]</td>\n",
       "      <td>sav (6,99]</td>\n",
       "    </tr>\n",
       "    <tr>\n",
       "      <th>4</th>\n",
       "      <td>good</td>\n",
       "      <td>0</td>\n",
       "      <td>rent</td>\n",
       "      <td>36</td>\n",
       "      <td>26</td>\n",
       "      <td>single</td>\n",
       "      <td>no_rec</td>\n",
       "      <td>fixed</td>\n",
       "      <td>46</td>\n",
       "      <td>107</td>\n",
       "      <td>...</td>\n",
       "      <td>time (24,36]</td>\n",
       "      <td>age (25,30]</td>\n",
       "      <td>exp (40,50]</td>\n",
       "      <td>inc (80,110]</td>\n",
       "      <td>asset (-1,0]</td>\n",
       "      <td>debt (-1,0]</td>\n",
       "      <td>am (0,600]</td>\n",
       "      <td>priz (0,1e+03]</td>\n",
       "      <td>finr (0,50]</td>\n",
       "      <td>sav (6,99]</td>\n",
       "    </tr>\n",
       "    <tr>\n",
       "      <th>...</th>\n",
       "      <td>...</td>\n",
       "      <td>...</td>\n",
       "      <td>...</td>\n",
       "      <td>...</td>\n",
       "      <td>...</td>\n",
       "      <td>...</td>\n",
       "      <td>...</td>\n",
       "      <td>...</td>\n",
       "      <td>...</td>\n",
       "      <td>...</td>\n",
       "      <td>...</td>\n",
       "      <td>...</td>\n",
       "      <td>...</td>\n",
       "      <td>...</td>\n",
       "      <td>...</td>\n",
       "      <td>...</td>\n",
       "      <td>...</td>\n",
       "      <td>...</td>\n",
       "      <td>...</td>\n",
       "      <td>...</td>\n",
       "      <td>...</td>\n",
       "    </tr>\n",
       "    <tr>\n",
       "      <th>4441</th>\n",
       "      <td>bad</td>\n",
       "      <td>1</td>\n",
       "      <td>rent</td>\n",
       "      <td>60</td>\n",
       "      <td>39</td>\n",
       "      <td>married</td>\n",
       "      <td>no_rec</td>\n",
       "      <td>fixed</td>\n",
       "      <td>69</td>\n",
       "      <td>92</td>\n",
       "      <td>...</td>\n",
       "      <td>time (48,99]</td>\n",
       "      <td>age (30,40]</td>\n",
       "      <td>exp (60,80]</td>\n",
       "      <td>inc (80,110]</td>\n",
       "      <td>asset (-1,0]</td>\n",
       "      <td>debt (-1,0]</td>\n",
       "      <td>am (600,900]</td>\n",
       "      <td>priz (1e+03,1.3e+03]</td>\n",
       "      <td>finr (80,90]</td>\n",
       "      <td>sav (0,2]</td>\n",
       "    </tr>\n",
       "    <tr>\n",
       "      <th>4442</th>\n",
       "      <td>good</td>\n",
       "      <td>22</td>\n",
       "      <td>owner</td>\n",
       "      <td>60</td>\n",
       "      <td>46</td>\n",
       "      <td>married</td>\n",
       "      <td>no_rec</td>\n",
       "      <td>fixed</td>\n",
       "      <td>60</td>\n",
       "      <td>75</td>\n",
       "      <td>...</td>\n",
       "      <td>time (48,99]</td>\n",
       "      <td>age (40,50]</td>\n",
       "      <td>exp (50,60]</td>\n",
       "      <td>inc (0,80]</td>\n",
       "      <td>asset (0,3e+03]</td>\n",
       "      <td>debt (500,1.5e+03]</td>\n",
       "      <td>am (900,1.1e+03]</td>\n",
       "      <td>priz (1e+03,1.3e+03]</td>\n",
       "      <td>finr (70,80]</td>\n",
       "      <td>sav (0,2]</td>\n",
       "    </tr>\n",
       "    <tr>\n",
       "      <th>4443</th>\n",
       "      <td>bad</td>\n",
       "      <td>0</td>\n",
       "      <td>owner</td>\n",
       "      <td>24</td>\n",
       "      <td>37</td>\n",
       "      <td>married</td>\n",
       "      <td>no_rec</td>\n",
       "      <td>partime</td>\n",
       "      <td>60</td>\n",
       "      <td>90</td>\n",
       "      <td>...</td>\n",
       "      <td>time (12,24]</td>\n",
       "      <td>age (30,40]</td>\n",
       "      <td>exp (50,60]</td>\n",
       "      <td>inc (80,110]</td>\n",
       "      <td>asset (3e+03,5e+03]</td>\n",
       "      <td>debt (-1,0]</td>\n",
       "      <td>am (0,600]</td>\n",
       "      <td>priz (0,1e+03]</td>\n",
       "      <td>finr (50,70]</td>\n",
       "      <td>sav (0,2]</td>\n",
       "    </tr>\n",
       "    <tr>\n",
       "      <th>4444</th>\n",
       "      <td>good</td>\n",
       "      <td>0</td>\n",
       "      <td>rent</td>\n",
       "      <td>48</td>\n",
       "      <td>23</td>\n",
       "      <td>single</td>\n",
       "      <td>no_rec</td>\n",
       "      <td>freelance</td>\n",
       "      <td>49</td>\n",
       "      <td>140</td>\n",
       "      <td>...</td>\n",
       "      <td>time (36,48]</td>\n",
       "      <td>age (0,25]</td>\n",
       "      <td>exp (40,50]</td>\n",
       "      <td>inc (110,140]</td>\n",
       "      <td>asset (-1,0]</td>\n",
       "      <td>debt (-1,0]</td>\n",
       "      <td>am (0,600]</td>\n",
       "      <td>priz (0,1e+03]</td>\n",
       "      <td>finr (90,100]</td>\n",
       "      <td>sav (6,99]</td>\n",
       "    </tr>\n",
       "    <tr>\n",
       "      <th>4445</th>\n",
       "      <td>good</td>\n",
       "      <td>5</td>\n",
       "      <td>owner</td>\n",
       "      <td>60</td>\n",
       "      <td>32</td>\n",
       "      <td>married</td>\n",
       "      <td>no_rec</td>\n",
       "      <td>freelance</td>\n",
       "      <td>60</td>\n",
       "      <td>140</td>\n",
       "      <td>...</td>\n",
       "      <td>time (48,99]</td>\n",
       "      <td>age (30,40]</td>\n",
       "      <td>exp (50,60]</td>\n",
       "      <td>inc (110,140]</td>\n",
       "      <td>asset (3e+03,5e+03]</td>\n",
       "      <td>debt (500,1.5e+03]</td>\n",
       "      <td>am (1.1e+03,1.4e+03]</td>\n",
       "      <td>priz (1.5e+03,1.8e+03]</td>\n",
       "      <td>finr (80,90]</td>\n",
       "      <td>sav (2,4]</td>\n",
       "    </tr>\n",
       "  </tbody>\n",
       "</table>\n",
       "<p>4446 rows × 27 columns</p>\n",
       "</div>"
      ],
      "text/plain": [
       "     Status  Seniority   Home  Time  Age  Marital  Records        Job  \\\n",
       "0      good          9   rent    60   30  married   no_rec  freelance   \n",
       "1      good         17   rent    60   58    widow   no_rec      fixed   \n",
       "2       bad         10  owner    36   46  married  yes_rec  freelance   \n",
       "3      good          0   rent    60   24   single   no_rec      fixed   \n",
       "4      good          0   rent    36   26   single   no_rec      fixed   \n",
       "...     ...        ...    ...   ...  ...      ...      ...        ...   \n",
       "4441    bad          1   rent    60   39  married   no_rec      fixed   \n",
       "4442   good         22  owner    60   46  married   no_rec      fixed   \n",
       "4443    bad          0  owner    24   37  married   no_rec    partime   \n",
       "4444   good          0   rent    48   23   single   no_rec  freelance   \n",
       "4445   good          5  owner    60   32  married   no_rec  freelance   \n",
       "\n",
       "      Expenses  Income  ...         timeR         ageR       expensesR  \\\n",
       "0           73     129  ...  time (48,99]  age (25,30]     exp (60,80]   \n",
       "1           48     131  ...  time (48,99]  age (50,99]     exp (40,50]   \n",
       "2           90     200  ...  time (24,36]  age (40,50]  exp (80,1e+04]   \n",
       "3           63     182  ...  time (48,99]   age (0,25]     exp (60,80]   \n",
       "4           46     107  ...  time (24,36]  age (25,30]     exp (40,50]   \n",
       "...        ...     ...  ...           ...          ...             ...   \n",
       "4441        69      92  ...  time (48,99]  age (30,40]     exp (60,80]   \n",
       "4442        60      75  ...  time (48,99]  age (40,50]     exp (50,60]   \n",
       "4443        60      90  ...  time (12,24]  age (30,40]     exp (50,60]   \n",
       "4444        49     140  ...  time (36,48]   age (0,25]     exp (40,50]   \n",
       "4445        60     140  ...  time (48,99]  age (30,40]     exp (50,60]   \n",
       "\n",
       "              incomeR              assetsR               debtR  \\\n",
       "0       inc (110,140]         asset (-1,0]         debt (-1,0]   \n",
       "1       inc (110,140]         asset (-1,0]         debt (-1,0]   \n",
       "2     inc (190,1e+04]      asset (0,3e+03]         debt (-1,0]   \n",
       "3       inc (140,190]      asset (0,3e+03]         debt (-1,0]   \n",
       "4        inc (80,110]         asset (-1,0]         debt (-1,0]   \n",
       "...               ...                  ...                 ...   \n",
       "4441     inc (80,110]         asset (-1,0]         debt (-1,0]   \n",
       "4442       inc (0,80]      asset (0,3e+03]  debt (500,1.5e+03]   \n",
       "4443     inc (80,110]  asset (3e+03,5e+03]         debt (-1,0]   \n",
       "4444    inc (110,140]         asset (-1,0]         debt (-1,0]   \n",
       "4445    inc (110,140]  asset (3e+03,5e+03]  debt (500,1.5e+03]   \n",
       "\n",
       "                   amountR                  priceR        finratR    savingsR  \n",
       "0             am (600,900]          priz (0,1e+03]  finr (90,100]   sav (4,6]  \n",
       "1         am (900,1.1e+03]  priz (1.5e+03,1.8e+03]   finr (50,70]   sav (4,6]  \n",
       "2       am (1.4e+03,1e+05]    priz (1.8e+03,1e+05]   finr (50,70]   sav (0,2]  \n",
       "3             am (600,900]  priz (1.3e+03,1.5e+03]   finr (50,70]  sav (6,99]  \n",
       "4               am (0,600]          priz (0,1e+03]    finr (0,50]  sav (6,99]  \n",
       "...                    ...                     ...            ...         ...  \n",
       "4441          am (600,900]    priz (1e+03,1.3e+03]   finr (80,90]   sav (0,2]  \n",
       "4442      am (900,1.1e+03]    priz (1e+03,1.3e+03]   finr (70,80]   sav (0,2]  \n",
       "4443            am (0,600]          priz (0,1e+03]   finr (50,70]   sav (0,2]  \n",
       "4444            am (0,600]          priz (0,1e+03]  finr (90,100]  sav (6,99]  \n",
       "4445  am (1.1e+03,1.4e+03]  priz (1.5e+03,1.8e+03]   finr (80,90]   sav (2,4]  \n",
       "\n",
       "[4446 rows x 27 columns]"
      ]
     },
     "execution_count": 6,
     "metadata": {},
     "output_type": "execute_result"
    }
   ],
   "source": [
    "credit_data"
   ]
  },
  {
   "cell_type": "code",
   "execution_count": 8,
   "id": "00c9b041",
   "metadata": {},
   "outputs": [
    {
     "data": {
      "text/html": [
       "<div>\n",
       "<style scoped>\n",
       "    .dataframe tbody tr th:only-of-type {\n",
       "        vertical-align: middle;\n",
       "    }\n",
       "\n",
       "    .dataframe tbody tr th {\n",
       "        vertical-align: top;\n",
       "    }\n",
       "\n",
       "    .dataframe thead th {\n",
       "        text-align: right;\n",
       "    }\n",
       "</style>\n",
       "<table border=\"1\" class=\"dataframe\">\n",
       "  <thead>\n",
       "    <tr style=\"text-align: right;\">\n",
       "      <th></th>\n",
       "      <th>Status</th>\n",
       "      <th>Seniority</th>\n",
       "      <th>Home</th>\n",
       "      <th>Time</th>\n",
       "      <th>Age</th>\n",
       "      <th>Marital</th>\n",
       "      <th>Records</th>\n",
       "      <th>Job</th>\n",
       "      <th>Expenses</th>\n",
       "      <th>Income</th>\n",
       "      <th>...</th>\n",
       "      <th>timeR</th>\n",
       "      <th>ageR</th>\n",
       "      <th>expensesR</th>\n",
       "      <th>incomeR</th>\n",
       "      <th>assetsR</th>\n",
       "      <th>debtR</th>\n",
       "      <th>amountR</th>\n",
       "      <th>priceR</th>\n",
       "      <th>finratR</th>\n",
       "      <th>savingsR</th>\n",
       "    </tr>\n",
       "  </thead>\n",
       "  <tbody>\n",
       "    <tr>\n",
       "      <th>0</th>\n",
       "      <td>good</td>\n",
       "      <td>9</td>\n",
       "      <td>rent</td>\n",
       "      <td>60</td>\n",
       "      <td>30</td>\n",
       "      <td>married</td>\n",
       "      <td>no_rec</td>\n",
       "      <td>freelance</td>\n",
       "      <td>73</td>\n",
       "      <td>129</td>\n",
       "      <td>...</td>\n",
       "      <td>time (48,99]</td>\n",
       "      <td>age (25,30]</td>\n",
       "      <td>exp (60,80]</td>\n",
       "      <td>inc (110,140]</td>\n",
       "      <td>asset (-1,0]</td>\n",
       "      <td>debt (-1,0]</td>\n",
       "      <td>am (600,900]</td>\n",
       "      <td>priz (0,1e+03]</td>\n",
       "      <td>finr (90,100]</td>\n",
       "      <td>sav (4,6]</td>\n",
       "    </tr>\n",
       "    <tr>\n",
       "      <th>1</th>\n",
       "      <td>good</td>\n",
       "      <td>17</td>\n",
       "      <td>rent</td>\n",
       "      <td>60</td>\n",
       "      <td>58</td>\n",
       "      <td>widow</td>\n",
       "      <td>no_rec</td>\n",
       "      <td>fixed</td>\n",
       "      <td>48</td>\n",
       "      <td>131</td>\n",
       "      <td>...</td>\n",
       "      <td>time (48,99]</td>\n",
       "      <td>age (50,99]</td>\n",
       "      <td>exp (40,50]</td>\n",
       "      <td>inc (110,140]</td>\n",
       "      <td>asset (-1,0]</td>\n",
       "      <td>debt (-1,0]</td>\n",
       "      <td>am (900,1.1e+03]</td>\n",
       "      <td>priz (1.5e+03,1.8e+03]</td>\n",
       "      <td>finr (50,70]</td>\n",
       "      <td>sav (4,6]</td>\n",
       "    </tr>\n",
       "    <tr>\n",
       "      <th>2</th>\n",
       "      <td>bad</td>\n",
       "      <td>10</td>\n",
       "      <td>owner</td>\n",
       "      <td>36</td>\n",
       "      <td>46</td>\n",
       "      <td>married</td>\n",
       "      <td>yes_rec</td>\n",
       "      <td>freelance</td>\n",
       "      <td>90</td>\n",
       "      <td>200</td>\n",
       "      <td>...</td>\n",
       "      <td>time (24,36]</td>\n",
       "      <td>age (40,50]</td>\n",
       "      <td>exp (80,1e+04]</td>\n",
       "      <td>inc (190,1e+04]</td>\n",
       "      <td>asset (0,3e+03]</td>\n",
       "      <td>debt (-1,0]</td>\n",
       "      <td>am (1.4e+03,1e+05]</td>\n",
       "      <td>priz (1.8e+03,1e+05]</td>\n",
       "      <td>finr (50,70]</td>\n",
       "      <td>sav (0,2]</td>\n",
       "    </tr>\n",
       "    <tr>\n",
       "      <th>3</th>\n",
       "      <td>good</td>\n",
       "      <td>0</td>\n",
       "      <td>rent</td>\n",
       "      <td>60</td>\n",
       "      <td>24</td>\n",
       "      <td>single</td>\n",
       "      <td>no_rec</td>\n",
       "      <td>fixed</td>\n",
       "      <td>63</td>\n",
       "      <td>182</td>\n",
       "      <td>...</td>\n",
       "      <td>time (48,99]</td>\n",
       "      <td>age (0,25]</td>\n",
       "      <td>exp (60,80]</td>\n",
       "      <td>inc (140,190]</td>\n",
       "      <td>asset (0,3e+03]</td>\n",
       "      <td>debt (-1,0]</td>\n",
       "      <td>am (600,900]</td>\n",
       "      <td>priz (1.3e+03,1.5e+03]</td>\n",
       "      <td>finr (50,70]</td>\n",
       "      <td>sav (6,99]</td>\n",
       "    </tr>\n",
       "    <tr>\n",
       "      <th>4</th>\n",
       "      <td>good</td>\n",
       "      <td>0</td>\n",
       "      <td>rent</td>\n",
       "      <td>36</td>\n",
       "      <td>26</td>\n",
       "      <td>single</td>\n",
       "      <td>no_rec</td>\n",
       "      <td>fixed</td>\n",
       "      <td>46</td>\n",
       "      <td>107</td>\n",
       "      <td>...</td>\n",
       "      <td>time (24,36]</td>\n",
       "      <td>age (25,30]</td>\n",
       "      <td>exp (40,50]</td>\n",
       "      <td>inc (80,110]</td>\n",
       "      <td>asset (-1,0]</td>\n",
       "      <td>debt (-1,0]</td>\n",
       "      <td>am (0,600]</td>\n",
       "      <td>priz (0,1e+03]</td>\n",
       "      <td>finr (0,50]</td>\n",
       "      <td>sav (6,99]</td>\n",
       "    </tr>\n",
       "    <tr>\n",
       "      <th>5</th>\n",
       "      <td>good</td>\n",
       "      <td>1</td>\n",
       "      <td>owner</td>\n",
       "      <td>60</td>\n",
       "      <td>36</td>\n",
       "      <td>married</td>\n",
       "      <td>no_rec</td>\n",
       "      <td>fixed</td>\n",
       "      <td>75</td>\n",
       "      <td>214</td>\n",
       "      <td>...</td>\n",
       "      <td>time (48,99]</td>\n",
       "      <td>age (30,40]</td>\n",
       "      <td>exp (60,80]</td>\n",
       "      <td>inc (190,1e+04]</td>\n",
       "      <td>asset (3e+03,5e+03]</td>\n",
       "      <td>debt (-1,0]</td>\n",
       "      <td>am (600,900]</td>\n",
       "      <td>priz (1.5e+03,1.8e+03]</td>\n",
       "      <td>finr (0,50]</td>\n",
       "      <td>sav (6,99]</td>\n",
       "    </tr>\n",
       "    <tr>\n",
       "      <th>6</th>\n",
       "      <td>good</td>\n",
       "      <td>29</td>\n",
       "      <td>owner</td>\n",
       "      <td>60</td>\n",
       "      <td>44</td>\n",
       "      <td>married</td>\n",
       "      <td>no_rec</td>\n",
       "      <td>fixed</td>\n",
       "      <td>75</td>\n",
       "      <td>125</td>\n",
       "      <td>...</td>\n",
       "      <td>time (48,99]</td>\n",
       "      <td>age (40,50]</td>\n",
       "      <td>exp (60,80]</td>\n",
       "      <td>inc (110,140]</td>\n",
       "      <td>asset (8e+03,1e+06]</td>\n",
       "      <td>debt (-1,0]</td>\n",
       "      <td>am (1.4e+03,1e+05]</td>\n",
       "      <td>priz (1.5e+03,1.8e+03]</td>\n",
       "      <td>finr (80,90]</td>\n",
       "      <td>sav (0,2]</td>\n",
       "    </tr>\n",
       "    <tr>\n",
       "      <th>7</th>\n",
       "      <td>good</td>\n",
       "      <td>9</td>\n",
       "      <td>parents</td>\n",
       "      <td>12</td>\n",
       "      <td>27</td>\n",
       "      <td>single</td>\n",
       "      <td>no_rec</td>\n",
       "      <td>fixed</td>\n",
       "      <td>35</td>\n",
       "      <td>80</td>\n",
       "      <td>...</td>\n",
       "      <td>time (0,12]</td>\n",
       "      <td>age (25,30]</td>\n",
       "      <td>exp (0,40]</td>\n",
       "      <td>inc (0,80]</td>\n",
       "      <td>asset (-1,0]</td>\n",
       "      <td>debt (-1,0]</td>\n",
       "      <td>am (0,600]</td>\n",
       "      <td>priz (1e+03,1.3e+03]</td>\n",
       "      <td>finr (0,50]</td>\n",
       "      <td>sav (2,4]</td>\n",
       "    </tr>\n",
       "    <tr>\n",
       "      <th>8</th>\n",
       "      <td>good</td>\n",
       "      <td>0</td>\n",
       "      <td>owner</td>\n",
       "      <td>60</td>\n",
       "      <td>32</td>\n",
       "      <td>married</td>\n",
       "      <td>no_rec</td>\n",
       "      <td>freelance</td>\n",
       "      <td>90</td>\n",
       "      <td>107</td>\n",
       "      <td>...</td>\n",
       "      <td>time (48,99]</td>\n",
       "      <td>age (30,40]</td>\n",
       "      <td>exp (80,1e+04]</td>\n",
       "      <td>inc (80,110]</td>\n",
       "      <td>asset (8e+03,1e+06]</td>\n",
       "      <td>debt (-1,0]</td>\n",
       "      <td>am (1.1e+03,1.4e+03]</td>\n",
       "      <td>priz (1.8e+03,1e+05]</td>\n",
       "      <td>finr (50,70]</td>\n",
       "      <td>sav (0,2]</td>\n",
       "    </tr>\n",
       "    <tr>\n",
       "      <th>9</th>\n",
       "      <td>bad</td>\n",
       "      <td>0</td>\n",
       "      <td>parents</td>\n",
       "      <td>48</td>\n",
       "      <td>41</td>\n",
       "      <td>married</td>\n",
       "      <td>no_rec</td>\n",
       "      <td>partime</td>\n",
       "      <td>90</td>\n",
       "      <td>80</td>\n",
       "      <td>...</td>\n",
       "      <td>time (36,48]</td>\n",
       "      <td>age (40,50]</td>\n",
       "      <td>exp (80,1e+04]</td>\n",
       "      <td>inc (0,80]</td>\n",
       "      <td>asset (-1,0]</td>\n",
       "      <td>debt (-1,0]</td>\n",
       "      <td>am (1.1e+03,1.4e+03]</td>\n",
       "      <td>priz (1.3e+03,1.5e+03]</td>\n",
       "      <td>finr (80,90]</td>\n",
       "      <td>sav (-99,0]</td>\n",
       "    </tr>\n",
       "  </tbody>\n",
       "</table>\n",
       "<p>10 rows × 27 columns</p>\n",
       "</div>"
      ],
      "text/plain": [
       "  Status  Seniority     Home  Time  Age  Marital  Records        Job  \\\n",
       "0   good          9     rent    60   30  married   no_rec  freelance   \n",
       "1   good         17     rent    60   58    widow   no_rec      fixed   \n",
       "2    bad         10    owner    36   46  married  yes_rec  freelance   \n",
       "3   good          0     rent    60   24   single   no_rec      fixed   \n",
       "4   good          0     rent    36   26   single   no_rec      fixed   \n",
       "5   good          1    owner    60   36  married   no_rec      fixed   \n",
       "6   good         29    owner    60   44  married   no_rec      fixed   \n",
       "7   good          9  parents    12   27   single   no_rec      fixed   \n",
       "8   good          0    owner    60   32  married   no_rec  freelance   \n",
       "9    bad          0  parents    48   41  married   no_rec    partime   \n",
       "\n",
       "   Expenses  Income  ...         timeR         ageR       expensesR  \\\n",
       "0        73     129  ...  time (48,99]  age (25,30]     exp (60,80]   \n",
       "1        48     131  ...  time (48,99]  age (50,99]     exp (40,50]   \n",
       "2        90     200  ...  time (24,36]  age (40,50]  exp (80,1e+04]   \n",
       "3        63     182  ...  time (48,99]   age (0,25]     exp (60,80]   \n",
       "4        46     107  ...  time (24,36]  age (25,30]     exp (40,50]   \n",
       "5        75     214  ...  time (48,99]  age (30,40]     exp (60,80]   \n",
       "6        75     125  ...  time (48,99]  age (40,50]     exp (60,80]   \n",
       "7        35      80  ...   time (0,12]  age (25,30]      exp (0,40]   \n",
       "8        90     107  ...  time (48,99]  age (30,40]  exp (80,1e+04]   \n",
       "9        90      80  ...  time (36,48]  age (40,50]  exp (80,1e+04]   \n",
       "\n",
       "           incomeR              assetsR        debtR               amountR  \\\n",
       "0    inc (110,140]         asset (-1,0]  debt (-1,0]          am (600,900]   \n",
       "1    inc (110,140]         asset (-1,0]  debt (-1,0]      am (900,1.1e+03]   \n",
       "2  inc (190,1e+04]      asset (0,3e+03]  debt (-1,0]    am (1.4e+03,1e+05]   \n",
       "3    inc (140,190]      asset (0,3e+03]  debt (-1,0]          am (600,900]   \n",
       "4     inc (80,110]         asset (-1,0]  debt (-1,0]            am (0,600]   \n",
       "5  inc (190,1e+04]  asset (3e+03,5e+03]  debt (-1,0]          am (600,900]   \n",
       "6    inc (110,140]  asset (8e+03,1e+06]  debt (-1,0]    am (1.4e+03,1e+05]   \n",
       "7       inc (0,80]         asset (-1,0]  debt (-1,0]            am (0,600]   \n",
       "8     inc (80,110]  asset (8e+03,1e+06]  debt (-1,0]  am (1.1e+03,1.4e+03]   \n",
       "9       inc (0,80]         asset (-1,0]  debt (-1,0]  am (1.1e+03,1.4e+03]   \n",
       "\n",
       "                   priceR        finratR     savingsR  \n",
       "0          priz (0,1e+03]  finr (90,100]    sav (4,6]  \n",
       "1  priz (1.5e+03,1.8e+03]   finr (50,70]    sav (4,6]  \n",
       "2    priz (1.8e+03,1e+05]   finr (50,70]    sav (0,2]  \n",
       "3  priz (1.3e+03,1.5e+03]   finr (50,70]   sav (6,99]  \n",
       "4          priz (0,1e+03]    finr (0,50]   sav (6,99]  \n",
       "5  priz (1.5e+03,1.8e+03]    finr (0,50]   sav (6,99]  \n",
       "6  priz (1.5e+03,1.8e+03]   finr (80,90]    sav (0,2]  \n",
       "7    priz (1e+03,1.3e+03]    finr (0,50]    sav (2,4]  \n",
       "8    priz (1.8e+03,1e+05]   finr (50,70]    sav (0,2]  \n",
       "9  priz (1.3e+03,1.5e+03]   finr (80,90]  sav (-99,0]  \n",
       "\n",
       "[10 rows x 27 columns]"
      ]
     },
     "execution_count": 8,
     "metadata": {},
     "output_type": "execute_result"
    }
   ],
   "source": [
    "credit_data.head(10)"
   ]
  },
  {
   "cell_type": "code",
   "execution_count": 11,
   "id": "b2861a2d",
   "metadata": {},
   "outputs": [
    {
     "data": {
      "text/plain": [
       "(4446, 27)"
      ]
     },
     "execution_count": 11,
     "metadata": {},
     "output_type": "execute_result"
    }
   ],
   "source": [
    "credit_data.shape"
   ]
  },
  {
   "cell_type": "code",
   "execution_count": 13,
   "id": "da0ce955",
   "metadata": {},
   "outputs": [
    {
     "name": "stdout",
     "output_type": "stream",
     "text": [
      "<class 'pandas.core.frame.DataFrame'>\n",
      "RangeIndex: 4446 entries, 0 to 4445\n",
      "Data columns (total 27 columns):\n",
      " #   Column      Non-Null Count  Dtype  \n",
      "---  ------      --------------  -----  \n",
      " 0   Status      4446 non-null   object \n",
      " 1   Seniority   4446 non-null   int64  \n",
      " 2   Home        4446 non-null   object \n",
      " 3   Time        4446 non-null   int64  \n",
      " 4   Age         4446 non-null   int64  \n",
      " 5   Marital     4446 non-null   object \n",
      " 6   Records     4446 non-null   object \n",
      " 7   Job         4446 non-null   object \n",
      " 8   Expenses    4446 non-null   int64  \n",
      " 9   Income      4446 non-null   int64  \n",
      " 10  Assets      4446 non-null   int64  \n",
      " 11  Debt        4446 non-null   int64  \n",
      " 12  Amount      4446 non-null   int64  \n",
      " 13  Price       4446 non-null   int64  \n",
      " 14  Finrat      4446 non-null   float64\n",
      " 15  Savings     4446 non-null   float64\n",
      " 16  seniorityR  4446 non-null   object \n",
      " 17  timeR       4446 non-null   object \n",
      " 18  ageR        4446 non-null   object \n",
      " 19  expensesR   4446 non-null   object \n",
      " 20  incomeR     4446 non-null   object \n",
      " 21  assetsR     4446 non-null   object \n",
      " 22  debtR       4446 non-null   object \n",
      " 23  amountR     4446 non-null   object \n",
      " 24  priceR      4446 non-null   object \n",
      " 25  finratR     4446 non-null   object \n",
      " 26  savingsR    4446 non-null   object \n",
      "dtypes: float64(2), int64(9), object(16)\n",
      "memory usage: 938.0+ KB\n"
     ]
    }
   ],
   "source": [
    "credit_data.info()"
   ]
  },
  {
   "cell_type": "code",
   "execution_count": 15,
   "id": "a11bc934",
   "metadata": {},
   "outputs": [
    {
     "data": {
      "text/html": [
       "<div>\n",
       "<style scoped>\n",
       "    .dataframe tbody tr th:only-of-type {\n",
       "        vertical-align: middle;\n",
       "    }\n",
       "\n",
       "    .dataframe tbody tr th {\n",
       "        vertical-align: top;\n",
       "    }\n",
       "\n",
       "    .dataframe thead th {\n",
       "        text-align: right;\n",
       "    }\n",
       "</style>\n",
       "<table border=\"1\" class=\"dataframe\">\n",
       "  <thead>\n",
       "    <tr style=\"text-align: right;\">\n",
       "      <th></th>\n",
       "      <th>Seniority</th>\n",
       "      <th>Time</th>\n",
       "      <th>Age</th>\n",
       "      <th>Expenses</th>\n",
       "      <th>Income</th>\n",
       "      <th>Assets</th>\n",
       "      <th>Debt</th>\n",
       "      <th>Amount</th>\n",
       "      <th>Price</th>\n",
       "      <th>Finrat</th>\n",
       "      <th>Savings</th>\n",
       "    </tr>\n",
       "  </thead>\n",
       "  <tbody>\n",
       "    <tr>\n",
       "      <th>count</th>\n",
       "      <td>4446.000000</td>\n",
       "      <td>4446.000000</td>\n",
       "      <td>4446.000000</td>\n",
       "      <td>4446.000000</td>\n",
       "      <td>4446.000000</td>\n",
       "      <td>4446.000000</td>\n",
       "      <td>4446.000000</td>\n",
       "      <td>4446.000000</td>\n",
       "      <td>4446.000000</td>\n",
       "      <td>4446.000000</td>\n",
       "      <td>4446.000000</td>\n",
       "    </tr>\n",
       "    <tr>\n",
       "      <th>mean</th>\n",
       "      <td>7.991453</td>\n",
       "      <td>46.453441</td>\n",
       "      <td>37.084121</td>\n",
       "      <td>55.601439</td>\n",
       "      <td>140.629780</td>\n",
       "      <td>5354.948943</td>\n",
       "      <td>342.257085</td>\n",
       "      <td>1038.763383</td>\n",
       "      <td>1462.480432</td>\n",
       "      <td>72.616409</td>\n",
       "      <td>3.860083</td>\n",
       "    </tr>\n",
       "    <tr>\n",
       "      <th>std</th>\n",
       "      <td>8.176370</td>\n",
       "      <td>14.647979</td>\n",
       "      <td>10.986366</td>\n",
       "      <td>19.520839</td>\n",
       "      <td>80.177896</td>\n",
       "      <td>11534.328183</td>\n",
       "      <td>1244.694549</td>\n",
       "      <td>474.747952</td>\n",
       "      <td>628.555171</td>\n",
       "      <td>20.390595</td>\n",
       "      <td>3.726292</td>\n",
       "    </tr>\n",
       "    <tr>\n",
       "      <th>min</th>\n",
       "      <td>0.000000</td>\n",
       "      <td>6.000000</td>\n",
       "      <td>18.000000</td>\n",
       "      <td>35.000000</td>\n",
       "      <td>1.000000</td>\n",
       "      <td>0.000000</td>\n",
       "      <td>0.000000</td>\n",
       "      <td>100.000000</td>\n",
       "      <td>105.000000</td>\n",
       "      <td>6.702413</td>\n",
       "      <td>-8.160000</td>\n",
       "    </tr>\n",
       "    <tr>\n",
       "      <th>25%</th>\n",
       "      <td>2.000000</td>\n",
       "      <td>36.000000</td>\n",
       "      <td>28.000000</td>\n",
       "      <td>35.000000</td>\n",
       "      <td>90.000000</td>\n",
       "      <td>0.000000</td>\n",
       "      <td>0.000000</td>\n",
       "      <td>700.000000</td>\n",
       "      <td>1116.250000</td>\n",
       "      <td>60.030020</td>\n",
       "      <td>1.615385</td>\n",
       "    </tr>\n",
       "    <tr>\n",
       "      <th>50%</th>\n",
       "      <td>5.000000</td>\n",
       "      <td>48.000000</td>\n",
       "      <td>36.000000</td>\n",
       "      <td>51.000000</td>\n",
       "      <td>124.000000</td>\n",
       "      <td>3000.000000</td>\n",
       "      <td>0.000000</td>\n",
       "      <td>1000.000000</td>\n",
       "      <td>1400.000000</td>\n",
       "      <td>77.096757</td>\n",
       "      <td>3.120000</td>\n",
       "    </tr>\n",
       "    <tr>\n",
       "      <th>75%</th>\n",
       "      <td>12.000000</td>\n",
       "      <td>60.000000</td>\n",
       "      <td>45.000000</td>\n",
       "      <td>72.000000</td>\n",
       "      <td>170.000000</td>\n",
       "      <td>6000.000000</td>\n",
       "      <td>0.000000</td>\n",
       "      <td>1300.000000</td>\n",
       "      <td>1691.500000</td>\n",
       "      <td>88.460263</td>\n",
       "      <td>5.195688</td>\n",
       "    </tr>\n",
       "    <tr>\n",
       "      <th>max</th>\n",
       "      <td>48.000000</td>\n",
       "      <td>72.000000</td>\n",
       "      <td>68.000000</td>\n",
       "      <td>180.000000</td>\n",
       "      <td>959.000000</td>\n",
       "      <td>300000.000000</td>\n",
       "      <td>30000.000000</td>\n",
       "      <td>5000.000000</td>\n",
       "      <td>11140.000000</td>\n",
       "      <td>100.000000</td>\n",
       "      <td>33.250000</td>\n",
       "    </tr>\n",
       "  </tbody>\n",
       "</table>\n",
       "</div>"
      ],
      "text/plain": [
       "         Seniority         Time          Age     Expenses       Income  \\\n",
       "count  4446.000000  4446.000000  4446.000000  4446.000000  4446.000000   \n",
       "mean      7.991453    46.453441    37.084121    55.601439   140.629780   \n",
       "std       8.176370    14.647979    10.986366    19.520839    80.177896   \n",
       "min       0.000000     6.000000    18.000000    35.000000     1.000000   \n",
       "25%       2.000000    36.000000    28.000000    35.000000    90.000000   \n",
       "50%       5.000000    48.000000    36.000000    51.000000   124.000000   \n",
       "75%      12.000000    60.000000    45.000000    72.000000   170.000000   \n",
       "max      48.000000    72.000000    68.000000   180.000000   959.000000   \n",
       "\n",
       "              Assets          Debt       Amount         Price       Finrat  \\\n",
       "count    4446.000000   4446.000000  4446.000000   4446.000000  4446.000000   \n",
       "mean     5354.948943    342.257085  1038.763383   1462.480432    72.616409   \n",
       "std     11534.328183   1244.694549   474.747952    628.555171    20.390595   \n",
       "min         0.000000      0.000000   100.000000    105.000000     6.702413   \n",
       "25%         0.000000      0.000000   700.000000   1116.250000    60.030020   \n",
       "50%      3000.000000      0.000000  1000.000000   1400.000000    77.096757   \n",
       "75%      6000.000000      0.000000  1300.000000   1691.500000    88.460263   \n",
       "max    300000.000000  30000.000000  5000.000000  11140.000000   100.000000   \n",
       "\n",
       "           Savings  \n",
       "count  4446.000000  \n",
       "mean      3.860083  \n",
       "std       3.726292  \n",
       "min      -8.160000  \n",
       "25%       1.615385  \n",
       "50%       3.120000  \n",
       "75%       5.195688  \n",
       "max      33.250000  "
      ]
     },
     "execution_count": 15,
     "metadata": {},
     "output_type": "execute_result"
    }
   ],
   "source": [
    "credit_data.describe()"
   ]
  },
  {
   "cell_type": "code",
   "execution_count": 18,
   "id": "1957c3bf",
   "metadata": {},
   "outputs": [
    {
     "data": {
      "text/plain": [
       "2"
      ]
     },
     "execution_count": 18,
     "metadata": {},
     "output_type": "execute_result"
    }
   ],
   "source": [
    "credit_data.duplicated().sum()"
   ]
  },
  {
   "cell_type": "code",
   "execution_count": 20,
   "id": "16aa30bf",
   "metadata": {},
   "outputs": [],
   "source": [
    "credit_data.drop_duplicates(inplace=True)"
   ]
  },
  {
   "cell_type": "code",
   "execution_count": 22,
   "id": "39cf5262",
   "metadata": {},
   "outputs": [
    {
     "data": {
      "text/plain": [
       "0"
      ]
     },
     "execution_count": 22,
     "metadata": {},
     "output_type": "execute_result"
    }
   ],
   "source": [
    "credit_data.duplicated().sum()"
   ]
  },
  {
   "cell_type": "markdown",
   "id": "afa72f6d",
   "metadata": {},
   "source": [
    "# Checking for outliers"
   ]
  },
  {
   "cell_type": "code",
   "execution_count": 24,
   "id": "7e1f49fa",
   "metadata": {},
   "outputs": [
    {
     "data": {
      "text/plain": [
       "0"
      ]
     },
     "execution_count": 24,
     "metadata": {},
     "output_type": "execute_result"
    }
   ],
   "source": [
    "from scipy import stats\n",
    "z = np.abs(stats.zscore(credit_data['Age']))\n",
    "outliers = list(set(np.where(z > 3)[0]))\n",
    "len(np.where(z > 3)[0])"
   ]
  },
  {
   "cell_type": "code",
   "execution_count": 26,
   "id": "381d4f01",
   "metadata": {},
   "outputs": [
    {
     "data": {
      "text/plain": [
       "Status        0\n",
       "Seniority     0\n",
       "Home          0\n",
       "Time          0\n",
       "Age           0\n",
       "Marital       0\n",
       "Records       0\n",
       "Job           0\n",
       "Expenses      0\n",
       "Income        0\n",
       "Assets        0\n",
       "Debt          0\n",
       "Amount        0\n",
       "Price         0\n",
       "Finrat        0\n",
       "Savings       0\n",
       "seniorityR    0\n",
       "timeR         0\n",
       "ageR          0\n",
       "expensesR     0\n",
       "incomeR       0\n",
       "assetsR       0\n",
       "debtR         0\n",
       "amountR       0\n",
       "priceR        0\n",
       "finratR       0\n",
       "savingsR      0\n",
       "dtype: int64"
      ]
     },
     "execution_count": 26,
     "metadata": {},
     "output_type": "execute_result"
    }
   ],
   "source": [
    "credit_data.isnull().sum()"
   ]
  },
  {
   "cell_type": "code",
   "execution_count": 33,
   "id": "84570906",
   "metadata": {},
   "outputs": [
    {
     "ename": "KeyError",
     "evalue": "\"['seniorityR', 'timeR', 'ageR', 'expensesR', 'incomeR', 'assetsR', 'debtR', 'amountR', 'priceR', 'finratR', 'savingsR'] not found in axis\"",
     "output_type": "error",
     "traceback": [
      "\u001b[1;31m---------------------------------------------------------------------------\u001b[0m",
      "\u001b[1;31mKeyError\u001b[0m                                  Traceback (most recent call last)",
      "\u001b[1;32m~\\AppData\\Local\\Temp\\ipykernel_3408\\8430965.py\u001b[0m in \u001b[0;36m<module>\u001b[1;34m\u001b[0m\n\u001b[1;32m----> 1\u001b[1;33m \u001b[0mcredit_data\u001b[0m\u001b[1;33m.\u001b[0m\u001b[0mdrop\u001b[0m\u001b[1;33m(\u001b[0m\u001b[1;33m[\u001b[0m\u001b[1;34m'seniorityR'\u001b[0m\u001b[1;33m,\u001b[0m \u001b[1;34m'timeR'\u001b[0m\u001b[1;33m,\u001b[0m \u001b[1;34m'ageR'\u001b[0m\u001b[1;33m,\u001b[0m \u001b[1;34m'expensesR'\u001b[0m\u001b[1;33m,\u001b[0m \u001b[1;34m'incomeR'\u001b[0m\u001b[1;33m,\u001b[0m \u001b[1;34m'assetsR'\u001b[0m\u001b[1;33m,\u001b[0m \u001b[1;34m'debtR'\u001b[0m\u001b[1;33m,\u001b[0m \u001b[1;34m'amountR'\u001b[0m\u001b[1;33m,\u001b[0m \u001b[1;34m'priceR'\u001b[0m\u001b[1;33m,\u001b[0m \u001b[1;34m'finratR'\u001b[0m\u001b[1;33m,\u001b[0m \u001b[1;34m'savingsR'\u001b[0m\u001b[1;33m]\u001b[0m\u001b[1;33m,\u001b[0m \u001b[0maxis\u001b[0m \u001b[1;33m=\u001b[0m \u001b[1;36m1\u001b[0m\u001b[1;33m,\u001b[0m \u001b[0minplace\u001b[0m\u001b[1;33m=\u001b[0m \u001b[1;32mTrue\u001b[0m\u001b[1;33m)\u001b[0m\u001b[1;33m\u001b[0m\u001b[1;33m\u001b[0m\u001b[0m\n\u001b[0m",
      "\u001b[1;32m~\\anaconda3\\lib\\site-packages\\pandas\\util\\_decorators.py\u001b[0m in \u001b[0;36mwrapper\u001b[1;34m(*args, **kwargs)\u001b[0m\n\u001b[0;32m    309\u001b[0m                     \u001b[0mstacklevel\u001b[0m\u001b[1;33m=\u001b[0m\u001b[0mstacklevel\u001b[0m\u001b[1;33m,\u001b[0m\u001b[1;33m\u001b[0m\u001b[1;33m\u001b[0m\u001b[0m\n\u001b[0;32m    310\u001b[0m                 )\n\u001b[1;32m--> 311\u001b[1;33m             \u001b[1;32mreturn\u001b[0m \u001b[0mfunc\u001b[0m\u001b[1;33m(\u001b[0m\u001b[1;33m*\u001b[0m\u001b[0margs\u001b[0m\u001b[1;33m,\u001b[0m \u001b[1;33m**\u001b[0m\u001b[0mkwargs\u001b[0m\u001b[1;33m)\u001b[0m\u001b[1;33m\u001b[0m\u001b[1;33m\u001b[0m\u001b[0m\n\u001b[0m\u001b[0;32m    312\u001b[0m \u001b[1;33m\u001b[0m\u001b[0m\n\u001b[0;32m    313\u001b[0m         \u001b[1;32mreturn\u001b[0m \u001b[0mwrapper\u001b[0m\u001b[1;33m\u001b[0m\u001b[1;33m\u001b[0m\u001b[0m\n",
      "\u001b[1;32m~\\anaconda3\\lib\\site-packages\\pandas\\core\\frame.py\u001b[0m in \u001b[0;36mdrop\u001b[1;34m(self, labels, axis, index, columns, level, inplace, errors)\u001b[0m\n\u001b[0;32m   4955\u001b[0m                 \u001b[0mweight\u001b[0m  \u001b[1;36m1.0\u001b[0m     \u001b[1;36m0.8\u001b[0m\u001b[1;33m\u001b[0m\u001b[1;33m\u001b[0m\u001b[0m\n\u001b[0;32m   4956\u001b[0m         \"\"\"\n\u001b[1;32m-> 4957\u001b[1;33m         return super().drop(\n\u001b[0m\u001b[0;32m   4958\u001b[0m             \u001b[0mlabels\u001b[0m\u001b[1;33m=\u001b[0m\u001b[0mlabels\u001b[0m\u001b[1;33m,\u001b[0m\u001b[1;33m\u001b[0m\u001b[1;33m\u001b[0m\u001b[0m\n\u001b[0;32m   4959\u001b[0m             \u001b[0maxis\u001b[0m\u001b[1;33m=\u001b[0m\u001b[0maxis\u001b[0m\u001b[1;33m,\u001b[0m\u001b[1;33m\u001b[0m\u001b[1;33m\u001b[0m\u001b[0m\n",
      "\u001b[1;32m~\\anaconda3\\lib\\site-packages\\pandas\\core\\generic.py\u001b[0m in \u001b[0;36mdrop\u001b[1;34m(self, labels, axis, index, columns, level, inplace, errors)\u001b[0m\n\u001b[0;32m   4265\u001b[0m         \u001b[1;32mfor\u001b[0m \u001b[0maxis\u001b[0m\u001b[1;33m,\u001b[0m \u001b[0mlabels\u001b[0m \u001b[1;32min\u001b[0m \u001b[0maxes\u001b[0m\u001b[1;33m.\u001b[0m\u001b[0mitems\u001b[0m\u001b[1;33m(\u001b[0m\u001b[1;33m)\u001b[0m\u001b[1;33m:\u001b[0m\u001b[1;33m\u001b[0m\u001b[1;33m\u001b[0m\u001b[0m\n\u001b[0;32m   4266\u001b[0m             \u001b[1;32mif\u001b[0m \u001b[0mlabels\u001b[0m \u001b[1;32mis\u001b[0m \u001b[1;32mnot\u001b[0m \u001b[1;32mNone\u001b[0m\u001b[1;33m:\u001b[0m\u001b[1;33m\u001b[0m\u001b[1;33m\u001b[0m\u001b[0m\n\u001b[1;32m-> 4267\u001b[1;33m                 \u001b[0mobj\u001b[0m \u001b[1;33m=\u001b[0m \u001b[0mobj\u001b[0m\u001b[1;33m.\u001b[0m\u001b[0m_drop_axis\u001b[0m\u001b[1;33m(\u001b[0m\u001b[0mlabels\u001b[0m\u001b[1;33m,\u001b[0m \u001b[0maxis\u001b[0m\u001b[1;33m,\u001b[0m \u001b[0mlevel\u001b[0m\u001b[1;33m=\u001b[0m\u001b[0mlevel\u001b[0m\u001b[1;33m,\u001b[0m \u001b[0merrors\u001b[0m\u001b[1;33m=\u001b[0m\u001b[0merrors\u001b[0m\u001b[1;33m)\u001b[0m\u001b[1;33m\u001b[0m\u001b[1;33m\u001b[0m\u001b[0m\n\u001b[0m\u001b[0;32m   4268\u001b[0m \u001b[1;33m\u001b[0m\u001b[0m\n\u001b[0;32m   4269\u001b[0m         \u001b[1;32mif\u001b[0m \u001b[0minplace\u001b[0m\u001b[1;33m:\u001b[0m\u001b[1;33m\u001b[0m\u001b[1;33m\u001b[0m\u001b[0m\n",
      "\u001b[1;32m~\\anaconda3\\lib\\site-packages\\pandas\\core\\generic.py\u001b[0m in \u001b[0;36m_drop_axis\u001b[1;34m(self, labels, axis, level, errors, consolidate, only_slice)\u001b[0m\n\u001b[0;32m   4309\u001b[0m                 \u001b[0mnew_axis\u001b[0m \u001b[1;33m=\u001b[0m \u001b[0maxis\u001b[0m\u001b[1;33m.\u001b[0m\u001b[0mdrop\u001b[0m\u001b[1;33m(\u001b[0m\u001b[0mlabels\u001b[0m\u001b[1;33m,\u001b[0m \u001b[0mlevel\u001b[0m\u001b[1;33m=\u001b[0m\u001b[0mlevel\u001b[0m\u001b[1;33m,\u001b[0m \u001b[0merrors\u001b[0m\u001b[1;33m=\u001b[0m\u001b[0merrors\u001b[0m\u001b[1;33m)\u001b[0m\u001b[1;33m\u001b[0m\u001b[1;33m\u001b[0m\u001b[0m\n\u001b[0;32m   4310\u001b[0m             \u001b[1;32melse\u001b[0m\u001b[1;33m:\u001b[0m\u001b[1;33m\u001b[0m\u001b[1;33m\u001b[0m\u001b[0m\n\u001b[1;32m-> 4311\u001b[1;33m                 \u001b[0mnew_axis\u001b[0m \u001b[1;33m=\u001b[0m \u001b[0maxis\u001b[0m\u001b[1;33m.\u001b[0m\u001b[0mdrop\u001b[0m\u001b[1;33m(\u001b[0m\u001b[0mlabels\u001b[0m\u001b[1;33m,\u001b[0m \u001b[0merrors\u001b[0m\u001b[1;33m=\u001b[0m\u001b[0merrors\u001b[0m\u001b[1;33m)\u001b[0m\u001b[1;33m\u001b[0m\u001b[1;33m\u001b[0m\u001b[0m\n\u001b[0m\u001b[0;32m   4312\u001b[0m             \u001b[0mindexer\u001b[0m \u001b[1;33m=\u001b[0m \u001b[0maxis\u001b[0m\u001b[1;33m.\u001b[0m\u001b[0mget_indexer\u001b[0m\u001b[1;33m(\u001b[0m\u001b[0mnew_axis\u001b[0m\u001b[1;33m)\u001b[0m\u001b[1;33m\u001b[0m\u001b[1;33m\u001b[0m\u001b[0m\n\u001b[0;32m   4313\u001b[0m \u001b[1;33m\u001b[0m\u001b[0m\n",
      "\u001b[1;32m~\\anaconda3\\lib\\site-packages\\pandas\\core\\indexes\\base.py\u001b[0m in \u001b[0;36mdrop\u001b[1;34m(self, labels, errors)\u001b[0m\n\u001b[0;32m   6659\u001b[0m         \u001b[1;32mif\u001b[0m \u001b[0mmask\u001b[0m\u001b[1;33m.\u001b[0m\u001b[0many\u001b[0m\u001b[1;33m(\u001b[0m\u001b[1;33m)\u001b[0m\u001b[1;33m:\u001b[0m\u001b[1;33m\u001b[0m\u001b[1;33m\u001b[0m\u001b[0m\n\u001b[0;32m   6660\u001b[0m             \u001b[1;32mif\u001b[0m \u001b[0merrors\u001b[0m \u001b[1;33m!=\u001b[0m \u001b[1;34m\"ignore\"\u001b[0m\u001b[1;33m:\u001b[0m\u001b[1;33m\u001b[0m\u001b[1;33m\u001b[0m\u001b[0m\n\u001b[1;32m-> 6661\u001b[1;33m                 \u001b[1;32mraise\u001b[0m \u001b[0mKeyError\u001b[0m\u001b[1;33m(\u001b[0m\u001b[1;34mf\"{list(labels[mask])} not found in axis\"\u001b[0m\u001b[1;33m)\u001b[0m\u001b[1;33m\u001b[0m\u001b[1;33m\u001b[0m\u001b[0m\n\u001b[0m\u001b[0;32m   6662\u001b[0m             \u001b[0mindexer\u001b[0m \u001b[1;33m=\u001b[0m \u001b[0mindexer\u001b[0m\u001b[1;33m[\u001b[0m\u001b[1;33m~\u001b[0m\u001b[0mmask\u001b[0m\u001b[1;33m]\u001b[0m\u001b[1;33m\u001b[0m\u001b[1;33m\u001b[0m\u001b[0m\n\u001b[0;32m   6663\u001b[0m         \u001b[1;32mreturn\u001b[0m \u001b[0mself\u001b[0m\u001b[1;33m.\u001b[0m\u001b[0mdelete\u001b[0m\u001b[1;33m(\u001b[0m\u001b[0mindexer\u001b[0m\u001b[1;33m)\u001b[0m\u001b[1;33m\u001b[0m\u001b[1;33m\u001b[0m\u001b[0m\n",
      "\u001b[1;31mKeyError\u001b[0m: \"['seniorityR', 'timeR', 'ageR', 'expensesR', 'incomeR', 'assetsR', 'debtR', 'amountR', 'priceR', 'finratR', 'savingsR'] not found in axis\""
     ]
    }
   ],
   "source": [
    "credit_data.drop(['seniorityR', 'timeR', 'ageR', 'expensesR', 'incomeR', 'assetsR', 'debtR', 'amountR', 'priceR', 'finratR', 'savingsR'], axis = 1, inplace= True)"
   ]
  },
  {
   "cell_type": "code",
   "execution_count": 34,
   "id": "16af7312",
   "metadata": {},
   "outputs": [
    {
     "data": {
      "text/plain": [
       "(4444, 16)"
      ]
     },
     "execution_count": 34,
     "metadata": {},
     "output_type": "execute_result"
    }
   ],
   "source": [
    "credit_data.shape"
   ]
  },
  {
   "cell_type": "code",
   "execution_count": 36,
   "id": "93048a39",
   "metadata": {},
   "outputs": [
    {
     "data": {
      "text/plain": [
       "good    3196\n",
       "bad     1248\n",
       "Name: Status, dtype: int64"
      ]
     },
     "execution_count": 36,
     "metadata": {},
     "output_type": "execute_result"
    }
   ],
   "source": [
    "credit_data['Status'].value_counts()"
   ]
  },
  {
   "cell_type": "code",
   "execution_count": 38,
   "id": "8d08a8d7",
   "metadata": {},
   "outputs": [
    {
     "data": {
      "text/plain": [
       "owner      2104\n",
       "rent        973\n",
       "parents     782\n",
       "other       319\n",
       "priv        246\n",
       "ignore       20\n",
       "Name: Home, dtype: int64"
      ]
     },
     "execution_count": 38,
     "metadata": {},
     "output_type": "execute_result"
    }
   ],
   "source": [
    "credit_data['Home'].value_counts()"
   ]
  },
  {
   "cell_type": "code",
   "execution_count": 40,
   "id": "feb5558b",
   "metadata": {},
   "outputs": [
    {
     "data": {
      "text/plain": [
       "fixed        2803\n",
       "freelance    1019\n",
       "partime       451\n",
       "others        171\n",
       "Name: Job, dtype: int64"
      ]
     },
     "execution_count": 40,
     "metadata": {},
     "output_type": "execute_result"
    }
   ],
   "source": [
    "credit_data['Job'].value_counts()"
   ]
  },
  {
   "cell_type": "markdown",
   "id": "8fdb1c41",
   "metadata": {},
   "source": [
    "# Univariant Analysis"
   ]
  },
  {
   "cell_type": "code",
   "execution_count": 42,
   "id": "1a313d4c",
   "metadata": {},
   "outputs": [
    {
     "data": {
      "text/plain": [
       "array([[<AxesSubplot:title={'center':'Income'}>]], dtype=object)"
      ]
     },
     "execution_count": 42,
     "metadata": {},
     "output_type": "execute_result"
    },
    {
     "data": {
      "image/png": "[encoded data removed]",
      "text/plain": [
       "<Figure size 640x480 with 1 Axes>"
      ]
     },
     "metadata": {},
     "output_type": "display_data"
    }
   ],
   "source": [
    "credit_data.hist(column= 'Income')"
   ]
  },
  {
   "cell_type": "markdown",
   "id": "58968b4b",
   "metadata": {},
   "source": [
    "There are more individuals earning below 200"
   ]
  },
  {
   "cell_type": "code",
   "execution_count": 45,
   "id": "43adfd78",
   "metadata": {},
   "outputs": [
    {
     "data": {
      "image/png": "[encoded data removed]",
      "text/plain": [
       "<Figure size 640x480 with 1 Axes>"
      ]
     },
     "metadata": {},
     "output_type": "display_data"
    }
   ],
   "source": [
    "g=sns.countplot(x = 'Status', data= credit_data, palette = 'hls')"
   ]
  },
  {
   "cell_type": "markdown",
   "id": "c1da79d1",
   "metadata": {},
   "source": [
    "There are more individuals with good credit score"
   ]
  },
  {
   "cell_type": "code",
   "execution_count": 47,
   "id": "015f1d71",
   "metadata": {},
   "outputs": [
    {
     "data": {
      "text/plain": [
       "<AxesSubplot:xlabel='Debt', ylabel='Density'>"
      ]
     },
     "execution_count": 47,
     "metadata": {},
     "output_type": "execute_result"
    },
    {
     "data": {
      "image/png": "[encoded data removed]",
      "text/plain": [
       "<Figure size 640x480 with 1 Axes>"
      ]
     },
     "metadata": {},
     "output_type": "display_data"
    }
   ],
   "source": [
    "sns.kdeplot(credit_data['Debt'])"
   ]
  },
  {
   "cell_type": "markdown",
   "id": "b310c8fe",
   "metadata": {},
   "source": [
    "There are more person with No debts"
   ]
  },
  {
   "cell_type": "markdown",
   "id": "868b8ca3",
   "metadata": {},
   "source": [
    "# Bivariate Analysis"
   ]
  },
  {
   "cell_type": "code",
   "execution_count": 51,
   "id": "c55263dc",
   "metadata": {},
   "outputs": [
    {
     "data": {
      "text/html": [
       "<div>\n",
       "<style scoped>\n",
       "    .dataframe tbody tr th:only-of-type {\n",
       "        vertical-align: middle;\n",
       "    }\n",
       "\n",
       "    .dataframe tbody tr th {\n",
       "        vertical-align: top;\n",
       "    }\n",
       "\n",
       "    .dataframe thead th {\n",
       "        text-align: right;\n",
       "    }\n",
       "</style>\n",
       "<table border=\"1\" class=\"dataframe\">\n",
       "  <thead>\n",
       "    <tr style=\"text-align: right;\">\n",
       "      <th></th>\n",
       "      <th>Amount</th>\n",
       "      <th>Income</th>\n",
       "    </tr>\n",
       "  </thead>\n",
       "  <tbody>\n",
       "    <tr>\n",
       "      <th>Amount</th>\n",
       "      <td>1.000000</td>\n",
       "      <td>0.190663</td>\n",
       "    </tr>\n",
       "    <tr>\n",
       "      <th>Income</th>\n",
       "      <td>0.190663</td>\n",
       "      <td>1.000000</td>\n",
       "    </tr>\n",
       "  </tbody>\n",
       "</table>\n",
       "</div>"
      ],
      "text/plain": [
       "          Amount    Income\n",
       "Amount  1.000000  0.190663\n",
       "Income  0.190663  1.000000"
      ]
     },
     "execution_count": 51,
     "metadata": {},
     "output_type": "execute_result"
    }
   ],
   "source": [
    "credit_data[['Amount', 'Income']].corr()"
   ]
  },
  {
   "cell_type": "code",
   "execution_count": 53,
   "id": "5fc5d954",
   "metadata": {},
   "outputs": [
    {
     "data": {
      "text/plain": [
       "<AxesSubplot:>"
      ]
     },
     "execution_count": 53,
     "metadata": {},
     "output_type": "execute_result"
    },
    {
     "data": {
      "image/png": "[encoded data removed]",
      "text/plain": [
       "<Figure size 640x480 with 2 Axes>"
      ]
     },
     "metadata": {},
     "output_type": "display_data"
    }
   ],
   "source": [
    "sns.heatmap(credit_data[['Amount', 'Income']].corr(), annot = True)"
   ]
  },
  {
   "cell_type": "markdown",
   "id": "859c2efa",
   "metadata": {},
   "source": [
    "The variable \"Income\" and \"Amount\" has a weak positive correlation"
   ]
  },
  {
   "cell_type": "code",
   "execution_count": 55,
   "id": "5a63387d",
   "metadata": {},
   "outputs": [],
   "source": [
    "from sklearn.linear_model import LinearRegression"
   ]
  },
  {
   "cell_type": "code",
   "execution_count": 57,
   "id": "f05f1eaa",
   "metadata": {},
   "outputs": [],
   "source": [
    "x = credit_data[['Income']].values\n",
    "y = credit_data[['Amount']].values"
   ]
  },
  {
   "cell_type": "code",
   "execution_count": 59,
   "id": "8ab11aec",
   "metadata": {},
   "outputs": [],
   "source": [
    "model = LinearRegression().fit(x,y)"
   ]
  },
  {
   "cell_type": "code",
   "execution_count": 61,
   "id": "0149e2f3",
   "metadata": {},
   "outputs": [
    {
     "data": {
      "text/plain": [
       "array([[1.12895559]])"
      ]
     },
     "execution_count": 61,
     "metadata": {},
     "output_type": "execute_result"
    }
   ],
   "source": [
    "model.coef_"
   ]
  },
  {
   "cell_type": "code",
   "execution_count": 63,
   "id": "d8bee51b",
   "metadata": {},
   "outputs": [
    {
     "data": {
      "text/plain": [
       "array([880.11663096])"
      ]
     },
     "execution_count": 63,
     "metadata": {},
     "output_type": "execute_result"
    }
   ],
   "source": [
    "model.intercept_"
   ]
  },
  {
   "cell_type": "markdown",
   "id": "a1339671",
   "metadata": {},
   "source": [
    "# Multivariate Analysis"
   ]
  },
  {
   "cell_type": "code",
   "execution_count": 65,
   "id": "50d4069c",
   "metadata": {},
   "outputs": [],
   "source": [
    "#Transforming The Categorical Features To Numerical\n",
    "\n",
    "from sklearn.preprocessing import LabelEncoder\n",
    "encode = LabelEncoder()\n",
    "credit_data['Job'] = encode.fit_transform(credit_data['Job'])\n"
   ]
  },
  {
   "cell_type": "code",
   "execution_count": 67,
   "id": "0e2329ba",
   "metadata": {},
   "outputs": [],
   "source": [
    "# Extract the features(independent variable) and Labels (dependent variable)\n",
    "\n",
    "x = credit_data.loc[:, ['Job', 'Assets', 'Debt', 'Income', 'Expenses']].values\n",
    "\n"
   ]
  },
  {
   "cell_type": "code",
   "execution_count": 69,
   "id": "56281b86",
   "metadata": {},
   "outputs": [
    {
     "data": {
      "text/plain": [
       "array([[ 0.40506746, -0.46407386, -0.27507024, -0.14530561,  0.89176346],\n",
       "       [-0.63546421, -0.46407386, -0.27507024, -0.12036111, -0.38938328],\n",
       "       [ 0.40506746, -0.20397356, -0.27507024,  0.74022393,  1.76294324],\n",
       "       ...,\n",
       "       [ 2.48613078, -0.16062351, -0.27507024, -0.63172324,  0.22556716],\n",
       "       [ 0.40506746, -0.46407386, -0.27507024, -0.00811089, -0.33813741],\n",
       "       [ 0.40506746, -0.11727346,  0.52826302, -0.00811089,  0.22556716]])"
      ]
     },
     "execution_count": 69,
     "metadata": {},
     "output_type": "execute_result"
    }
   ],
   "source": [
    "#Standardizing the features\n",
    "\n",
    "from sklearn.preprocessing import StandardScaler\n",
    "sc = StandardScaler()\n",
    "x_scaled = sc.fit_transform(x)\n",
    "x_scaled"
   ]
  },
  {
   "cell_type": "code",
   "execution_count": 71,
   "id": "ec29057f",
   "metadata": {},
   "outputs": [],
   "source": [
    "from sklearn.decomposition import PCA\n",
    "pc = PCA(n_components=5)"
   ]
  },
  {
   "cell_type": "code",
   "execution_count": 73,
   "id": "df9356f6",
   "metadata": {},
   "outputs": [
    {
     "data": {
      "text/plain": [
       "array([[-0.13193824, -0.54425104, -0.84092751, -0.44399213,  0.23142736],\n",
       "       [-0.46283751, -0.47271612,  0.60939255,  0.13354354, -0.1845991 ],\n",
       "       [ 0.90969556, -1.01027715, -1.38379397, -0.39891865,  0.12256042],\n",
       "       ...,\n",
       "       [-0.92679566,  1.15911162, -2.06540225, -0.51307089, -0.02542544],\n",
       "       [-0.55028801,  0.05140323, -0.23394866, -0.04237115, -0.45554807],\n",
       "       [ 0.18197943,  0.28140053, -0.23188969, -0.58455218, -0.00800052]])"
      ]
     },
     "execution_count": 73,
     "metadata": {},
     "output_type": "execute_result"
    }
   ],
   "source": [
    "p = pc.fit_transform(x_scaled)\n",
    "p"
   ]
  },
  {
   "cell_type": "code",
   "execution_count": 75,
   "id": "0d045055",
   "metadata": {},
   "outputs": [
    {
     "data": {
      "text/html": [
       "<div>\n",
       "<style scoped>\n",
       "    .dataframe tbody tr th:only-of-type {\n",
       "        vertical-align: middle;\n",
       "    }\n",
       "\n",
       "    .dataframe tbody tr th {\n",
       "        vertical-align: top;\n",
       "    }\n",
       "\n",
       "    .dataframe thead th {\n",
       "        text-align: right;\n",
       "    }\n",
       "</style>\n",
       "<table border=\"1\" class=\"dataframe\">\n",
       "  <thead>\n",
       "    <tr style=\"text-align: right;\">\n",
       "      <th></th>\n",
       "      <th>PC1</th>\n",
       "      <th>PC2</th>\n",
       "      <th>PC3</th>\n",
       "      <th>PC4</th>\n",
       "      <th>PC5</th>\n",
       "      <th>Status</th>\n",
       "    </tr>\n",
       "  </thead>\n",
       "  <tbody>\n",
       "    <tr>\n",
       "      <th>0</th>\n",
       "      <td>-0.131938</td>\n",
       "      <td>-0.544251</td>\n",
       "      <td>-0.840928</td>\n",
       "      <td>-0.443992</td>\n",
       "      <td>0.231427</td>\n",
       "      <td>good</td>\n",
       "    </tr>\n",
       "    <tr>\n",
       "      <th>1</th>\n",
       "      <td>-0.462838</td>\n",
       "      <td>-0.472716</td>\n",
       "      <td>0.609393</td>\n",
       "      <td>0.133544</td>\n",
       "      <td>-0.184599</td>\n",
       "      <td>good</td>\n",
       "    </tr>\n",
       "    <tr>\n",
       "      <th>2</th>\n",
       "      <td>0.909696</td>\n",
       "      <td>-1.010277</td>\n",
       "      <td>-1.383794</td>\n",
       "      <td>-0.398919</td>\n",
       "      <td>0.122560</td>\n",
       "      <td>bad</td>\n",
       "    </tr>\n",
       "    <tr>\n",
       "      <th>3</th>\n",
       "      <td>0.358357</td>\n",
       "      <td>-0.865050</td>\n",
       "      <td>0.146650</td>\n",
       "      <td>0.139534</td>\n",
       "      <td>-0.181059</td>\n",
       "      <td>good</td>\n",
       "    </tr>\n",
       "    <tr>\n",
       "      <th>4</th>\n",
       "      <td>-0.694094</td>\n",
       "      <td>-0.369615</td>\n",
       "      <td>0.694293</td>\n",
       "      <td>0.110598</td>\n",
       "      <td>-0.016488</td>\n",
       "      <td>good</td>\n",
       "    </tr>\n",
       "  </tbody>\n",
       "</table>\n",
       "</div>"
      ],
      "text/plain": [
       "        PC1       PC2       PC3       PC4       PC5 Status\n",
       "0 -0.131938 -0.544251 -0.840928 -0.443992  0.231427   good\n",
       "1 -0.462838 -0.472716  0.609393  0.133544 -0.184599   good\n",
       "2  0.909696 -1.010277 -1.383794 -0.398919  0.122560    bad\n",
       "3  0.358357 -0.865050  0.146650  0.139534 -0.181059   good\n",
       "4 -0.694094 -0.369615  0.694293  0.110598 -0.016488   good"
      ]
     },
     "execution_count": 75,
     "metadata": {},
     "output_type": "execute_result"
    }
   ],
   "source": [
    "credit_data1 = pd.DataFrame(data = p, columns= ['PC1','PC2','PC3','PC4','PC5'])\n",
    "credit_data_df = pd.concat([credit_data1, credit_data[['Status']]], axis = 1)\n",
    "credit_data_df.head()"
   ]
  },
  {
   "cell_type": "code",
   "execution_count": 80,
   "id": "7a047a13",
   "metadata": {},
   "outputs": [
    {
     "data": {
      "image/png": "[encoded data removed]",
      "text/plain": [
       "<Figure size 800x800 with 1 Axes>"
      ]
     },
     "metadata": {},
     "output_type": "display_data"
    }
   ],
   "source": [
    "fig = plt.figure(figsize = (8,8))\n",
    "ax = fig.add_subplot(1,1,1) \n",
    "ax.set_xlabel('PC1', fontsize = 15)\n",
    "ax.set_ylabel('PC2', fontsize = 15)\n",
    "ax.set_title('2 component PCA', fontsize = 20)\n",
    "targets = ['good', 'bad']\n",
    "colors = ['r', 'g', 'b']\n",
    "for target, color in zip(targets,colors):\n",
    "    indicesToKeep = credit_data_df['Status'] == target\n",
    "    ax.scatter(credit_data_df.loc[indicesToKeep, 'PC1']\n",
    "               , credit_data_df.loc[indicesToKeep, 'PC2']\n",
    "               , c = color\n",
    "               , s = 50)\n",
    "ax.legend(targets)\n",
    "ax.grid()"
   ]
  }
 ],
 "metadata": {
  "kernelspec": {
   "display_name": "Python 3 (ipykernel)",
   "language": "python",
   "name": "python3"
  },
  "language_info": {
   "codemirror_mode": {
    "name": "ipython",
    "version": 3
   },
   "file_extension": ".py",
   "mimetype": "text/x-python",
   "name": "python",
   "nbconvert_exporter": "python",
   "pygments_lexer": "ipython3",
   "version": "3.9.13"
  }
 },
 "nbformat": 4,
 "nbformat_minor": 5
}
